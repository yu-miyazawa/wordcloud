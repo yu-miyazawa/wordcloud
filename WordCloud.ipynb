{
 "cells": [
  {
   "cell_type": "code",
   "execution_count": 22,
   "id": "a101fa9e",
   "metadata": {},
   "outputs": [],
   "source": [
    "# coding:utf-8\n",
    "import csv\n",
    "from janome.tokenizer import Tokenizer\n",
    "import matplotlib.pyplot as plt\n",
    "from wordcloud import WordCloud\n",
    "from bs4 import BeautifulSoup\n",
    "from collections import Counter, defaultdict"
   ]
  },
  {
   "cell_type": "code",
   "execution_count": 23,
   "id": "4a8c61c5",
   "metadata": {},
   "outputs": [],
   "source": [
    "# 名詞だけ抽出、単語をカウント\n",
    "def counter(texts):\n",
    "    t = Tokenizer()\n",
    "    words_count = defaultdict(int)\n",
    "    words = []\n",
    "    for text in texts:\n",
    "        tokens = t.tokenize(text)\n",
    "        for token in tokens:\n",
    "            # 品詞から名詞だけ抽出\n",
    "            pos = token.part_of_speech.split(',')[0]\n",
    "            if pos in ['名詞']:\n",
    "                # 必要ない単語を省く(実際の結果を見てから不必要そうな単語を記載しました)\n",
    "                if token.base_form not in [\"test\"]:\n",
    "                    words_count[token.base_form] += 1\n",
    "                    words.append(token.base_form)\n",
    "    return words_count, words"
   ]
  },
  {
   "cell_type": "code",
   "execution_count": 24,
   "id": "5d820447",
   "metadata": {},
   "outputs": [],
   "source": [
    "with open('./yuki.csv', 'r',encoding='utf_8_sig') as f:\n",
    "    reader = csv.reader(f, delimiter='\\t')\n",
    "    texts = []\n",
    "    for row in reader:\n",
    "        if(len(row) > 0):\n",
    "            text = row[0].split('http')\n",
    "            texts.append(text[0])"
   ]
  },
  {
   "cell_type": "code",
   "execution_count": 25,
   "id": "4e293151",
   "metadata": {},
   "outputs": [],
   "source": [
    "words_count, words = counter(texts)\n",
    "text = ' '.join(words)"
   ]
  },
  {
   "cell_type": "code",
   "execution_count": null,
   "id": "1ec08b3d",
   "metadata": {},
   "outputs": [],
   "source": [
    "# fontは自分の端末にあるものを使用する\n",
    "fpath = \"C:/Users/yuki0/AppData/Local/Programs/Python/Python39/Lib/site-packages/matplotlib/mpl-data/fonts/ttf/ipaexg.ttf\"\n",
    "wordcloud = WordCloud(background_color=\"white\",\n",
    "                      font_path=fpath, width=900, height=500).generate(text)\n",
    "\n",
    "wordcloud.to_file(\"./wordcloud_sample.png\")"
   ]
  },
  {
   "cell_type": "code",
   "execution_count": null,
   "id": "21220e7e",
   "metadata": {},
   "outputs": [],
   "source": [
    "words_count = sorted(words_count.items(), key=lambda x:x[1], reverse=True)"
   ]
  }
 ],
 "metadata": {
  "kernelspec": {
   "display_name": "Python 3 (ipykernel)",
   "language": "python",
   "name": "python3"
  },
  "language_info": {
   "codemirror_mode": {
    "name": "ipython",
    "version": 3
   },
   "file_extension": ".py",
   "mimetype": "text/x-python",
   "name": "python",
   "nbconvert_exporter": "python",
   "pygments_lexer": "ipython3",
   "version": "3.9.1"
  }
 },
 "nbformat": 4,
 "nbformat_minor": 5
}
