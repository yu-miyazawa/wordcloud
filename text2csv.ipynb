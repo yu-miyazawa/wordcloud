{
 "cells": [
  {
   "cell_type": "code",
   "execution_count": 3,
   "id": "ffb2c835",
   "metadata": {
    "scrolled": false
   },
   "outputs": [],
   "source": [
    "import csv\n",
    "import this\n",
    "\n",
    "adumalist = []\n",
    "file_path = 'word.txt'#input(\"検索ファイル:\")\n",
    " \n",
    "with open(file_path, encoding=\"utf-8\") as file:\n",
    " \n",
    "    lines = file.readlines()\n",
    "    \n",
    "    #改行コードを抜く\n",
    "    #s_lines = [line.strip() for line in lines]\n",
    " \n",
    "    input_value = 'ここに検索文字列'#input(\"検索文字列:\")\n",
    " \n",
    "    for line in lines:#s_lines:\n",
    "        if input_value in line:\n",
    "            #print(line)\n",
    "            #print(line[len('ここに検索文字列'):])\n",
    "            word = line[len('ここに検索文字列'):]\n",
    "            \n",
    "            #画像かスタンプは削除する(リスト化すればもっとコード簡易化できる)\n",
    "            if '[写真]' in word or '[スタンプ]' in word or '[アルバム]' in word or '(null)' in word:\n",
    "                word = ''\n",
    "                \n",
    "            adumalist.append(word)\n",
    "            with open(\"ファイル名\", 'wt',encoding='utf_8_sig') as f:\n",
    "                # ライター（書き込み者）を作成\n",
    "                #writer = csv.writer(f)\n",
    "                f.writelines(adumalist)\n",
    "                # ライターでデータ（リスト）をファイルに出力\n",
    "                #writer.writerow(adumalist)\n",
    "                \n",
    "    #print(adumalist)"
   ]
  }
 ],
 "metadata": {
  "kernelspec": {
   "display_name": "Python 3.9.1 64-bit",
   "language": "python",
   "name": "python3"
  },
  "language_info": {
   "codemirror_mode": {
    "name": "ipython",
    "version": 3
   },
   "file_extension": ".py",
   "mimetype": "text/x-python",
   "name": "python",
   "nbconvert_exporter": "python",
   "pygments_lexer": "ipython3",
   "version": "3.9.1"
  },
  "vscode": {
   "interpreter": {
    "hash": "7fe6b31460db75dc0c8eeb7b9e5f716063a36fde3ae983c09bc52aa66a966636"
   }
  }
 },
 "nbformat": 4,
 "nbformat_minor": 5
}
